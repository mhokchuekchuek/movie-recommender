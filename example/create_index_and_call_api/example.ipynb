{
 "cells": [
  {
   "cell_type": "markdown",
   "metadata": {},
   "source": [
    "## install dependencies"
   ]
  },
  {
   "cell_type": "code",
   "execution_count": 1,
   "metadata": {},
   "outputs": [
    {
     "name": "stdout",
     "output_type": "stream",
     "text": [
      "Requirement already satisfied: requests in /usr/local/Caskroom/miniforge/base/envs/recom/lib/python3.10/site-packages (2.31.0)\n",
      "Requirement already satisfied: elasticsearch in /usr/local/Caskroom/miniforge/base/envs/recom/lib/python3.10/site-packages (8.13.1)\n",
      "Requirement already satisfied: charset-normalizer<4,>=2 in /usr/local/Caskroom/miniforge/base/envs/recom/lib/python3.10/site-packages (from requests) (3.3.2)\n",
      "Requirement already satisfied: idna<4,>=2.5 in /usr/local/Caskroom/miniforge/base/envs/recom/lib/python3.10/site-packages (from requests) (3.7)\n",
      "Requirement already satisfied: urllib3<3,>=1.21.1 in /usr/local/Caskroom/miniforge/base/envs/recom/lib/python3.10/site-packages (from requests) (2.2.1)\n",
      "Requirement already satisfied: certifi>=2017.4.17 in /usr/local/Caskroom/miniforge/base/envs/recom/lib/python3.10/site-packages (from requests) (2024.2.2)\n",
      "Requirement already satisfied: elastic-transport<9,>=8.13 in /usr/local/Caskroom/miniforge/base/envs/recom/lib/python3.10/site-packages (from elasticsearch) (8.13.0)\n"
     ]
    }
   ],
   "source": [
    "!pip install requests elasticsearch"
   ]
  },
  {
   "cell_type": "markdown",
   "metadata": {},
   "source": [
    "## create_index"
   ]
  },
  {
   "cell_type": "code",
   "execution_count": 7,
   "metadata": {},
   "outputs": [
    {
     "data": {
      "text/plain": [
       "<create_elasticsearch.CreateElasticSearchIndex at 0x130faea10>"
      ]
     },
     "execution_count": 7,
     "metadata": {},
     "output_type": "execute_result"
    }
   ],
   "source": [
    "from create_elasticsearch import CreateElasticSearchIndex\n",
    "CreateElasticSearchIndex(\"http://localhost:9200\", \"movie_vector_1\", \"movie_index_1\", \"user_index_1\")"
   ]
  },
  {
   "cell_type": "markdown",
   "metadata": {},
   "source": [
    "## Update Movie"
   ]
  },
  {
   "cell_type": "markdown",
   "metadata": {},
   "source": [
    "**create data**"
   ]
  },
  {
   "cell_type": "code",
   "execution_count": 8,
   "metadata": {},
   "outputs": [],
   "source": [
    "import pandas as pd\n",
    "data = {\n",
    "    'movieId': [1, 2],\n",
    "    'title': ['Toy Story (1995)', 'Jumanji (1995)'],\n",
    "    'genres': ['Adventure|Animation|Children|Comedy|Fantasy', 'Adventure|Children|Fantasy'],\n",
    "    'tag': ['fun|pixar', 'game|Robin Williams|magic board game|fantasy']\n",
    "}\n",
    "complete_movie_df = pd.DataFrame(data)"
   ]
  },
  {
   "cell_type": "markdown",
   "metadata": {},
   "source": [
    "**format data**"
   ]
  },
  {
   "cell_type": "code",
   "execution_count": 9,
   "metadata": {},
   "outputs": [],
   "source": [
    "movie_data = {}\n",
    "for movie_id in complete_movie_df[\"movieId\"].unique():\n",
    "  key =  str(complete_movie_df[complete_movie_df[\"movieId\"]==movie_id][\"movieId\"].values[0])\n",
    "  value = {\n",
    "      \"title\": complete_movie_df[complete_movie_df[\"movieId\"]==movie_id][\"title\"].values[0],\n",
    "      \"genres\": complete_movie_df[complete_movie_df[\"movieId\"]==movie_id][\"genres\"].values[0],\n",
    "      \"tags\": complete_movie_df[complete_movie_df[\"movieId\"]==movie_id][\"tag\"].values[0]\n",
    "  }\n",
    "  movie_data.update({key:value})"
   ]
  },
  {
   "cell_type": "markdown",
   "metadata": {},
   "source": [
    "**Update Movie via API**"
   ]
  },
  {
   "cell_type": "code",
   "execution_count": 11,
   "metadata": {},
   "outputs": [],
   "source": [
    "import requests\n",
    "\n",
    "url = \"http://localhost:1111/update_movie\"\n",
    "\n",
    "# Send POST request with JSON payload\n",
    "response = requests.post(url, json=movie_data)"
   ]
  },
  {
   "cell_type": "markdown",
   "metadata": {},
   "source": [
    "## Update Ratings"
   ]
  },
  {
   "cell_type": "code",
   "execution_count": 12,
   "metadata": {},
   "outputs": [],
   "source": [
    "# Given data\n",
    "data = {\n",
    "    'userId': [\"1\", \"1\", \"1\"],\n",
    "    'movieId': [\"1\", \"3\", \"6\"],\n",
    "    'rating': [4.0, 4.0, 4.0],\n",
    "    'timestamp': [964982703, 964981247, 964982224]\n",
    "}\n",
    "\n",
    "# Create DataFrame\n",
    "ratings = pd.DataFrame(data)\n",
    "\n",
    "movie_ratings = {}\n",
    "for user_id in ratings[\"userId\"].unique():\n",
    "    key =  str(ratings[ratings[\"userId\"]==user_id][\"userId\"].values[0])\n",
    "    value = {\n",
    "        \"movie_id\": ratings[ratings[\"userId\"]==user_id][\"movieId\"].values.tolist(),\n",
    "        \"ratings\": ratings[ratings[\"userId\"]==user_id][\"rating\"].values.tolist()\n",
    "    }\n",
    "    movie_ratings.update({key:value})\n"
   ]
  },
  {
   "cell_type": "code",
   "execution_count": 14,
   "metadata": {},
   "outputs": [],
   "source": [
    "import requests\n",
    "\n",
    "url = \"http://localhost:1111/update_ratings\"\n",
    "\n",
    "# Send POST request with JSON payload\n",
    "response = requests.post(url, json=movie_ratings)"
   ]
  },
  {
   "cell_type": "markdown",
   "metadata": {},
   "source": [
    "# get Recommend"
   ]
  },
  {
   "cell_type": "code",
   "execution_count": 15,
   "metadata": {},
   "outputs": [],
   "source": [
    "import requests\n",
    "\n",
    "# Define the base URL and endpoint\n",
    "base_url = \"http://localhost:1111\"\n",
    "endpoint = \"/recommendations\"\n",
    "\n",
    "# Define the parameters\n",
    "params = {\n",
    "    \"user_id\": \"1\",  # Replace with the actual user ID\n",
    "    \"returnMetadata\": True  # Set to True if metadata is required\n",
    "}\n",
    "\n",
    "# Send the GET request\n",
    "response = requests.get(f\"{base_url}{endpoint}\", params=params)"
   ]
  },
  {
   "cell_type": "code",
   "execution_count": 17,
   "metadata": {},
   "outputs": [
    {
     "data": {
      "text/plain": [
       "{'items': [{'movie_id': '1',\n",
       "   'title': 'Toy Story (1995)',\n",
       "   'genres': 'Adventure|Animation|Children|Comedy|Fantasy',\n",
       "   'tags': 'fun|pixar'},\n",
       "  {'movie_id': '2',\n",
       "   'title': 'Jumanji (1995)',\n",
       "   'genres': 'Adventure|Children|Fantasy',\n",
       "   'tags': 'game|Robin Williams|magic board game|fantasy'}]}"
      ]
     },
     "execution_count": 17,
     "metadata": {},
     "output_type": "execute_result"
    }
   ],
   "source": [
    "response.json()"
   ]
  },
  {
   "cell_type": "markdown",
   "metadata": {},
   "source": [
    "# get features"
   ]
  },
  {
   "cell_type": "code",
   "execution_count": 21,
   "metadata": {},
   "outputs": [],
   "source": [
    "import requests\n",
    "\n",
    "url = \"http://localhost:1111/features\"\n",
    "\n",
    "# Send POST request with JSON payload\n",
    "response = requests.get(url, params={\"user_id\":\"1\"})"
   ]
  },
  {
   "cell_type": "code",
   "execution_count": 23,
   "metadata": {},
   "outputs": [
    {
     "data": {
      "text/plain": [
       "{'features': [{'histories': ['1', '3', '6']}]}"
      ]
     },
     "execution_count": 23,
     "metadata": {},
     "output_type": "execute_result"
    }
   ],
   "source": [
    "response.json()"
   ]
  }
 ],
 "metadata": {
  "kernelspec": {
   "display_name": "recom",
   "language": "python",
   "name": "python3"
  },
  "language_info": {
   "codemirror_mode": {
    "name": "ipython",
    "version": 3
   },
   "file_extension": ".py",
   "mimetype": "text/x-python",
   "name": "python",
   "nbconvert_exporter": "python",
   "pygments_lexer": "ipython3",
   "version": "3.10.14"
  }
 },
 "nbformat": 4,
 "nbformat_minor": 2
}
